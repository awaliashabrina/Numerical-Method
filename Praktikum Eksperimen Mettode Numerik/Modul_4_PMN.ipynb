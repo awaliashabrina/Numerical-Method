{
  "nbformat": 4,
  "nbformat_minor": 0,
  "metadata": {
    "colab": {
      "provenance": [],
      "collapsed_sections": []
    },
    "kernelspec": {
      "name": "python3",
      "display_name": "Python 3"
    },
    "language_info": {
      "name": "python"
    }
  },
  "cells": [
    {
      "cell_type": "markdown",
      "metadata": {
        "id": "4DD4eMaKWzVj"
      },
      "source": [
        "# **Modul 4**\n",
        "---\n",
        "## **Integrasi Numerik dan Kuadratur Numerik** \n",
        "\n",
        "\n",
        "\n",
        "## 1. Metode Integrasi Numerik Simpson\n",
        "\n",
        "Hasil integral dari suatu fungsi $f(x)$ pada dasarnya merupakan nilai luasan yang dibentuk oleh daerah di bawah kurva $f(x)$ yang dibatasi oleh sumbi $x$ dan garis pada batas bawah dan batasatas integral. Integrasi numerik merupakan suatu metode untuk mendekati hasil integral tersebut dengan sejumlah luasan kecil (_infinitesimal area_) dengan bentuk sederhana. Bentuk sederhana bagi luasan kecil tersebut dapat dipilih bentuk persegi, trapesium atau bentuk lengkung lainnya, yang dianggap lebih mendekati beberapa nilai fungsi pada beberapa titik.   \n",
        "\n",
        "Salah satu metode integrasi numerik bagi fungsi $f(x)$ yang berbentuk sederhana namun memiliki keakuratan yang cukup tinggi adalah metode Simpson dengan ungkapan seperti berikut\n",
        "\n",
        "$$\\int_a^b\\,f(x)dx\\approx\\frac{h}{3}\\left[f(x_0)+4f(x_1)+2f(x_2)+\\cdots+4f(x_{N-1})+f(x_N)\\right]\\tag{1a}$$\n",
        "\n",
        "$$\\int_a^b\\,f(x)dx\\approx\\frac{h}{3}\\left(f(x_0)+f(x_N)+4\\sum_{i=1,3,\\cdots}^{N-1}f(x_i)+2\\sum_{i=2,4,\\cdots}^{N-2}f(x_i)\\right)\\tag{1b}$$\n",
        "\n",
        "Dalam ungkapan di atas, $N$ adalah sebarang bilangan genap, $x_0=a$, $x_N=b$,  ukuran langkah (_step size_) $h=\\frac{b-a}{N}=\\frac{x_N-x_0}{N}=x_i-x_{i-1}$ dan $x_i=x_0+ih$ dengan $i=1,2,\\cdots,N$.\n",
        "\n",
        "_Source-code_ bagi metode Simpson diberikan seperti contoh berikut. Untuk menunjukkan bahwa perhitungan integrasi numerik dengan metode Simpson dapat memberikan hasil dengan ketelitian tinggi maka dapat dicoba untuk bentuk fungsi $f(x)=\\sin(x)$ pada berbagai nilai masukan $N$ atau $h$."
      ]
    },
    {
      "cell_type": "code",
      "metadata": {
        "id": "yIFsppydB8Tj"
      },
      "source": [
        "from math import pi,sin,cos,sqrt\n",
        "import numpy as np\n",
        "from matplotlib import pyplot as plt"
      ],
      "execution_count": null,
      "outputs": []
    },
    {
      "cell_type": "code",
      "metadata": {
        "id": "0tORJECuCGnO"
      },
      "source": [
        "def fung(x):\n",
        "    f = sin(x)\n",
        "    return f"
      ],
      "execution_count": null,
      "outputs": []
    },
    {
      "cell_type": "code",
      "metadata": {
        "id": "uNy1VYt7CUGs"
      },
      "source": [
        "def integsimpson(a,b,n):\n",
        "    h=(b-a)/float(n)\n",
        "    sumodd=0.0\n",
        "    nhalf=int(n/2)\n",
        "    for i in range(1, nhalf + 1):\n",
        "        xodd = a + (2*i -1)*h\n",
        "        sumodd += fung(xodd)\n",
        "    sumeven=0.0\n",
        "    for i in range(1, nhalf):\n",
        "        xeven = a + 2*i*h\n",
        "        sumeven += fung(xeven)\n",
        "    integsimp = h*(fung(a) + 4.0*sumodd + 2.0*sumeven + fung(b))/3.0\n",
        "    return integsimp"
      ],
      "execution_count": null,
      "outputs": []
    },
    {
      "cell_type": "code",
      "metadata": {
        "colab": {
          "base_uri": "https://localhost:8080/"
        },
        "id": "Jrnj0VLcCazt",
        "outputId": "4145a393-9fcb-48d5-8aac-8b8cfccffc8b"
      },
      "source": [
        "integsimpson(0,pi/3,100)"
      ],
      "execution_count": null,
      "outputs": [
        {
          "output_type": "execute_result",
          "data": {
            "text/plain": [
              "0.5000000000334054"
            ]
          },
          "metadata": {},
          "execution_count": 10
        }
      ]
    },
    {
      "cell_type": "code",
      "metadata": {
        "colab": {
          "base_uri": "https://localhost:8080/"
        },
        "id": "5B_-3SIaCwsE",
        "outputId": "e9623b7f-e34d-4644-c1fd-d855c838f6ba"
      },
      "source": [
        "cos(0)-cos(pi/3)"
      ],
      "execution_count": null,
      "outputs": [
        {
          "output_type": "execute_result",
          "data": {
            "text/plain": [
              "0.4999999999999999"
            ]
          },
          "metadata": {},
          "execution_count": 11
        }
      ]
    },
    {
      "cell_type": "markdown",
      "source": [
        "## 2. Metode Kuadratur Numerik: _Gauss-Legendre_\n",
        "\n",
        "Perhitungan numerik bagi nilai integral yang selama ini telah dikaji, sebagai contoh metode Simpson, adalah melalui proses diskretisasi peubah bebas pada titik-titik yang telah ditentukan $x_0, x_1, \\cdots, x_N$. Secara umum nilai integral dari batas $a$ hingga $b$ dapat didekati oleh bentuk umum\n",
        "\n",
        "$$\\int_{x_0}^{x_N}f(x)dx\\approx h\\sum_{i=0}^N w_i f(x_i)\\tag{2}$$,\n",
        "\n",
        "dengan $h=x_i-x_{i-1}$ adalah ukuran langkah (_step size_) atau tingkat kehalusan diskretisasi, $w_i$ adalah nilai koefisien atau bobot fungsi  yang seperangkat nilainya dapat ditentukan oleh metode diskretisasi yang dipilih dan $x_0=a, x_N=b$. \n",
        "\n",
        "Sebagai contoh untuk metode Simpson maka $w_0=\\frac{1}{3}, w_N=\\frac{1}{3},$ $w_{2i-1}=\\frac{4}{3}$ untuk $i=1,2,\\cdots,\\frac{N}{2}$ dan $w_{2i}=\\frac{2}{3}$ untuk $i=1,2,\\cdots,\\frac{N}{2}-1$.\n",
        "\n",
        "Nampak dari metode perhitungan numerik pers (2) bahwa pendekatan perhitungan nilai integral akan tidak berhasil apabila terjadi singularitas pada nilai fungsi di titik tertentu.\n",
        "\n",
        "Dengan prosedur yang agak berbeda, metode kuadratur numerik adalah metode untuk mendekati nilai integral berdasarkan seperangkat nilai bobot $w_i$ dan titik $x_i$ yang ditentukan berdasarkan tingkat (_orde_) ketelitian yang akan dicapai, bukan berdasarkan proses diskretisasi. Dengan tambahan derajat kebebasan untuk memilih seperangkat titik $x_i$ maka 2 fitur yang dimiliki metode kuadratur, dibanding metode integrasi berdasar diskretisasi,  adalah\n",
        "\n",
        "1. Singularitas dapat dihindari karena seperangkat titik $x_i$ tidak berada pada suatu titik yang menyebabkan nilai fungsi bernilai tak hingga.\n",
        "2. Orde ketelitian lebih tinggi karena jumlah peubah bebas menjadi lebih banyak.\n",
        "\n",
        "Sebagai gambaran terkait 2 fitur tersebut, tinjau ungkapan kuadratur numerik untuk kasus sedehana, yaitu berdasar evaluasi pada 2 titik $x_1$ dan $x_2$ yang berada pada interval $-1$ dan $1$, berikut\n",
        "\n",
        "$$\\int_{-1}^1 f(x)dx\\approx w_1 f(x_1) + w_2 f(x_2)\\tag{3}$$\n",
        "\n",
        "Dalam ungkapan tersebut, sejumlah 4 nilai $w_1, w_2, x_1$ dan $x_2$ menjadi bebas untuk ditentukan. Salah satu cara untuk menentukan 4 nilai tersebut adalah dengan menyusun 4 persamaan yang menjamin bahwa pers (7) akan memberikan nilai eksak apabila $f(x)$ berbentuk polinomial hingga orde 3. \n",
        "\n",
        "* Untuk $f(x)=x^0=1$ maka pers (7) menjadi\n",
        "$$\\int_{-1}^1 1dx=2= w_1 x_1^0 + w_2 x_2^0=w_1+w_2\\tag{4}$$\n",
        "\n",
        "* Untuk $f(x)=x^1$ maka pers (7) menjadi\n",
        "$$\\int_{-1}^1 xdx=0= w_1 x_1 + w_2 x_2\\tag{5}$$\n",
        "\n",
        "* Untuk $f(x)=x^2$ maka pers (7) menjadi\n",
        "$$\\int_{-1}^1 x^2dx=\\frac{2}{3}= w_1 x_1^2 + w_2 x_2^2\\tag{6}$$\n",
        "\n",
        "* Untuk $f(x)=x^3$ maka pers (7) menjadi\n",
        "$$\\int_{-1}^1 x^3dx=0= w_1 x_1^3 + w_2 x_2^3\\tag{7}$$\n",
        "\n",
        "Mudah ditunjukkan bahwa penyelsaian dari 4 persamaan serentak tersebut adalah\n",
        "\n",
        "$w_1=1, w_2=1, x_1=-\\frac{1}{\\sqrt{3}}\\approx=-0.577350269$ dan $x_2=\\frac{1}{\\sqrt{3}}\\approx 0.577350269$.\n",
        "\n",
        "Dengan pers (3) dan 4 nilai yang diperoleh tersebut maka metode kuadratur numerik pada 2 titik  berbentuk\n",
        "\n",
        "$$\\int_{-1}^1 f(x)dx\\approx 1 f(-0.577350269) + 1 f(0.577350269)\\tag{8}$$\n",
        "\n",
        "---\n",
        "Berikut adalah contoh penggunaan kuadratur numerik 2 titik untuk menentukan nilai integral dari $f(x)=2+x^2$\n"
      ],
      "metadata": {
        "id": "xnDKsGO7rQe9"
      }
    },
    {
      "cell_type": "code",
      "source": [
        "c1=1.0\n",
        "c2=1.0\n",
        "x1=-0.577350269\n",
        "x2=0.577350269\n",
        "f1=2.0+x1**2\n",
        "f2=2.0+x2**2\n",
        "nilai_kuad=c1*f1+c2*f2\n",
        "nilai_eksak=2.0*(1.0-(-1.0))+(1.0**3-(-1.0)**3)/3.0"
      ],
      "metadata": {
        "id": "JJdF24Tet6t9"
      },
      "execution_count": null,
      "outputs": []
    },
    {
      "cell_type": "code",
      "source": [
        "nilai_kuad"
      ],
      "metadata": {
        "colab": {
          "base_uri": "https://localhost:8080/"
        },
        "id": "qkRTuJ8bugf8",
        "outputId": "84d2e590-d936-4427-bcd0-f62f8e4f23e1"
      },
      "execution_count": null,
      "outputs": [
        {
          "output_type": "execute_result",
          "data": {
            "text/plain": [
              "4.666666666228744"
            ]
          },
          "metadata": {},
          "execution_count": 13
        }
      ]
    },
    {
      "cell_type": "code",
      "source": [
        "nilai_eksak"
      ],
      "metadata": {
        "colab": {
          "base_uri": "https://localhost:8080/"
        },
        "id": "G3bH2bTVunWQ",
        "outputId": "98bc8428-8f67-4056-db6c-836d1314e965"
      },
      "execution_count": null,
      "outputs": [
        {
          "output_type": "execute_result",
          "data": {
            "text/plain": [
              "4.666666666666667"
            ]
          },
          "metadata": {},
          "execution_count": 14
        }
      ]
    },
    {
      "cell_type": "markdown",
      "source": [
        "Nampak bahwa perhitungan nilai integral berdasar metode kuadratur numerik dengan hanya menggunakan 2 titik dapat berhasil memberikan nilai yang cukup teliti. Ketelitian ini tentunya belum dapat diperoleh jika menggunakan metode Simpson dengan 2 titik yang sama. Ini merupakan salah satu fitur dari metode kuadratur numerik yang disinggung di atas.\n",
        "\n",
        "### Ungkapan untuk Batas Integral yang Sebarang\n",
        "Apabila batas integral adalah sebarang yaitu dari $y=a$ hingga $y=b$ maka bentuk kuadratur numerik dalam pers (3) dari $x=-1$ hingga $x=1$ dapat dilakukan pengaturan skala secara linear dalam bentuk\n",
        "\n",
        "$$y=\\frac{b-a}{2}x+\\frac{b+a}{2}\\tag{9}$$\n",
        "\n",
        "Dengan pengaturan skala tersebut maka bentuk kuadratur numerik dalam pers (3) dapat digunakan dalam bentuk menjadi\n",
        "\n",
        "$$\\int_a^b f(y)dy\\approx\\frac{b-a}{2}\\left[w_1 f\\left(\\frac{b-a}{2}x_1+\\frac{b+a}{2}\\right) + w_2 f\\left(\\frac{b-a}{2}x_2+\\frac{b+a}{2}\\right)\\right]\\tag{10}$$\n",
        "\n",
        "Salah satu kendala bagi metode kuadratur numerik adalah perlunya pencarian seperangkat nilai $c_i$ dan $x_i$, saat $i=1,2,\\cdots, N$, untuk cacah titik $N$ yang dipilih. Pada umumnya, pencarian nilai-nilai $c_i$ dan $x_i$ tersebut dapat dilakukan dengan melibatkan operasi pada fungsi khas (_special function_) berupa polinomial orthonormal  tertentu. \n",
        "\n",
        "Sebagai contoh, metode kuadratur numerik dengan ungkapan seperti diberikan oleh pers (3) merupakan bentuk khusus, yaitu saat cacah titik $N=2$, dari apa yang disebut sebagai metode kuadratur _Gauss-Legendre_ dengan bentuk umum\n",
        "\n",
        "$$\\int_{-1}^1 f(x)dx\\approx \\sum_{i=1}^n w_i f(x_i)\\tag{11}$$\n",
        "\n",
        "Nilai-nilai $x_i$ dapat diperoleh melalui akar-akar atau titik nol (_zeros_) dari polinomial _Legendre_ orde ke $n$, dengan lambang $P_n(x)$, sedangkan nilai-nilai $w_i$ diperoleh dengan melibatkan turunan ke 1 dari polinomial tersebut, yaitu melalui ungkapan\n",
        "\n",
        "$$P_n(x_i)=0\\tag{12a}$$\n",
        "\n",
        "$$w_i=\\frac{2}{(1-x_i^2)\\left[P_n^{'}(x_i)\\right]^2}\\tag{12b}$$\n",
        "\n",
        "Untuk beberapa titik yang tidak terlalu banyak, nilai-nilai $w_i$ dan $x_i$ bagi kuadratur _Gauss-Legendre_, seperti diberikan oleh pers (12), diberikan dalam bentuk Tabel seperti berikut ([Gaussian Kuadrature](https://en.wikipedia.org/wiki/Gaussian_quadrature))\n",
        "\n",
        "Cacah titik $n$    | Bobot $w_i$      | Titik $x_i$\n",
        "-|-|-\n",
        "1|2|0\n",
        "2|1|-0.577350...\n",
        " |1|0.577350...\n",
        "3|0.555556...|-0.774597... \n",
        "|0.888889...|0\n",
        " |0.555556...|0.774597...\n",
        "4|0.347855...|-0.861136...\n",
        " |0.652145...|-0.339981...\n",
        " |0.652145...|0.339981...\n",
        " |0.347855...|0.861136...\n",
        "5|0.236927...|-0.90618...\n",
        " |0.478629...|-0.53846...\n",
        " |0.568889...|0\n",
        " |0.478629...|0.53846...\n",
        " |0.236927...|0.90618...\n",
        "\n",
        "Sebagai gambaran terkait ketelitian metode kuadratur numerik, berikut akan ditunjukkan metode _Gauss-Legendre_ pada lima titik $n=5$ untuk menentukan nilai integral dari $f(x)=2+x^8$ dengan batas integral $a=0$ dan $b=3$.    \n"
      ],
      "metadata": {
        "id": "-7kM5SQvura5"
      }
    },
    {
      "cell_type": "code",
      "source": [
        "def fung(x):\n",
        "  f = 2.0 + x**8\n",
        "  return f\n",
        "\n",
        "def kuad_GL1(a,b):\n",
        "    n = 5\n",
        "    w = np.zeros(n+1)\n",
        "    x = np.zeros(n+1)\n",
        "    w[1] = 0.236927\n",
        "    w[2] = 0.478629\n",
        "    w[3] = 0.568889\n",
        "    w[4] = 0.478629\n",
        "    w[5] = 0.236927\n",
        "    x[1] = -0.90618\n",
        "    x[2] = -0.53846\n",
        "    x[3] = 0.0\n",
        "    x[4] = 0.53846\n",
        "    x[5] = 0.90618\n",
        "    sum = 0.0\n",
        "    for i in range(1,n+1):\n",
        "        y = (b-a)*x[i]/2.0 + (b+a)/2.0\n",
        "        sum += w[i] * fung(y)\n",
        "    kuad = (b-a) * sum/2.0\n",
        "    return kuad"
      ],
      "metadata": {
        "id": "Z8gV6JrL2Cz9"
      },
      "execution_count": null,
      "outputs": []
    },
    {
      "cell_type": "code",
      "source": [
        "kuad = kuad_GL1(0,3)"
      ],
      "metadata": {
        "id": "I3vOIeVu5Fa8"
      },
      "execution_count": null,
      "outputs": []
    },
    {
      "cell_type": "code",
      "source": [
        "kuad"
      ],
      "metadata": {
        "colab": {
          "base_uri": "https://localhost:8080/"
        },
        "id": "-2J9sJUM5OZ8",
        "outputId": "2c79ecce-fba3-456c-8dbc-7b21e2c01fed"
      },
      "execution_count": null,
      "outputs": [
        {
          "output_type": "execute_result",
          "data": {
            "text/plain": [
              "2192.9742515366925"
            ]
          },
          "metadata": {},
          "execution_count": 17
        }
      ]
    },
    {
      "cell_type": "code",
      "source": [
        "eksak = 2.0 * 3.0 + 3.0**9/9"
      ],
      "metadata": {
        "id": "KJqSEWAN5jqz"
      },
      "execution_count": null,
      "outputs": []
    },
    {
      "cell_type": "code",
      "source": [
        "eksak"
      ],
      "metadata": {
        "colab": {
          "base_uri": "https://localhost:8080/"
        },
        "id": "w7Vwfz606PBp",
        "outputId": "937462cd-c6b6-463e-b5af-736b685b0599"
      },
      "execution_count": null,
      "outputs": [
        {
          "output_type": "execute_result",
          "data": {
            "text/plain": [
              "2193.0"
            ]
          },
          "metadata": {},
          "execution_count": 19
        }
      ]
    },
    {
      "cell_type": "markdown",
      "source": [
        "Selain disajikan dalam bentuk ungkapan seperti pers (12) atau bentuk Tabel, beberapa bahasa pemrograman atau paket matematika biasanya juga menyediakan _Library_ atau _Toolbox_ untuk membangkitkan nilai-nilai titik evaluasi fungsi ($x_i$) beserta nilai bobot terkait ($c_i$). Sebagai contoh, di dalam Python hal tersebut difasilitasi oleh _Library_ _Numpy_ atau _Scipy_ seperti berikut. "
      ],
      "metadata": {
        "id": "9I8IiEOnBO4_"
      }
    },
    {
      "cell_type": "code",
      "source": [
        "import numpy as np\n",
        "import numpy.polynomial.legendre as geek\n",
        "\n",
        "x,w = geek.leggauss(20)\n"
      ],
      "metadata": {
        "id": "7urbEmznCI1O"
      },
      "execution_count": null,
      "outputs": []
    },
    {
      "cell_type": "code",
      "source": [
        "x"
      ],
      "metadata": {
        "colab": {
          "base_uri": "https://localhost:8080/"
        },
        "id": "uIpu2iY9C6Jq",
        "outputId": "6b701532-252d-475f-8aa7-0b1fa141ed26"
      },
      "execution_count": null,
      "outputs": [
        {
          "output_type": "execute_result",
          "data": {
            "text/plain": [
              "array([-0.9931286 , -0.96397193, -0.91223443, -0.83911697, -0.74633191,\n",
              "       -0.63605368, -0.510867  , -0.37370609, -0.22778585, -0.07652652,\n",
              "        0.07652652,  0.22778585,  0.37370609,  0.510867  ,  0.63605368,\n",
              "        0.74633191,  0.83911697,  0.91223443,  0.96397193,  0.9931286 ])"
            ]
          },
          "metadata": {},
          "execution_count": 23
        }
      ]
    },
    {
      "cell_type": "code",
      "source": [
        "w"
      ],
      "metadata": {
        "colab": {
          "base_uri": "https://localhost:8080/"
        },
        "id": "y1fWDewmC72r",
        "outputId": "4c6dd8a0-700d-43c3-983a-6f4b33eef025"
      },
      "execution_count": null,
      "outputs": [
        {
          "output_type": "execute_result",
          "data": {
            "text/plain": [
              "array([0.01761401, 0.04060143, 0.06267205, 0.08327674, 0.10193012,\n",
              "       0.11819453, 0.13168864, 0.14209611, 0.14917299, 0.15275339,\n",
              "       0.15275339, 0.14917299, 0.14209611, 0.13168864, 0.11819453,\n",
              "       0.10193012, 0.08327674, 0.06267205, 0.04060143, 0.01761401])"
            ]
          },
          "metadata": {},
          "execution_count": 24
        }
      ]
    },
    {
      "cell_type": "code",
      "source": [
        "def fung(x):\n",
        "  f = 2.0 + x**8\n",
        "  return f\n",
        "\n",
        "def kuad_GL(a,b):\n",
        "    n = 30\n",
        "    x,w = geek.leggauss(n) \n",
        "    sum = 0.0\n",
        "    for i in range(n):\n",
        "        y = (b-a)*x[i]/2.0 + (b+a)/2.0\n",
        "        sum += w[i] * fung(y)\n",
        "    kuad = (b-a) * sum/2.0\n",
        "    return kuad"
      ],
      "metadata": {
        "id": "G--g-Qd7DBD5"
      },
      "execution_count": null,
      "outputs": []
    },
    {
      "cell_type": "code",
      "source": [
        "kuad"
      ],
      "metadata": {
        "colab": {
          "base_uri": "https://localhost:8080/"
        },
        "id": "IpCCKb7ED7fU",
        "outputId": "012f303d-0410-451f-afaa-93e3ac67d5c2"
      },
      "execution_count": null,
      "outputs": [
        {
          "output_type": "execute_result",
          "data": {
            "text/plain": [
              "2192.9742515366925"
            ]
          },
          "metadata": {},
          "execution_count": 28
        }
      ]
    },
    {
      "cell_type": "code",
      "source": [
        "import scipy\n",
        "from scipy import special\n",
        "\n",
        "x,w = scipy.special.roots_jacobi(5, 0.5, 0, mu=False)"
      ],
      "metadata": {
        "id": "ChFIuZBrD9C8"
      },
      "execution_count": null,
      "outputs": []
    },
    {
      "cell_type": "code",
      "source": [
        "x"
      ],
      "metadata": {
        "id": "5wDfYNmtFicO",
        "outputId": "7e952185-9837-46d2-fcd5-1be4d378b4a5",
        "colab": {
          "base_uri": "https://localhost:8080/"
        }
      },
      "execution_count": null,
      "outputs": [
        {
          "output_type": "execute_result",
          "data": {
            "text/plain": [
              "array([-0.91386262, -0.57376011, -0.0662439 ,  0.46107842,  0.85469297])"
            ]
          },
          "metadata": {},
          "execution_count": 30
        }
      ]
    },
    {
      "cell_type": "code",
      "source": [
        "w"
      ],
      "metadata": {
        "id": "nYKCeY6kFjZS",
        "outputId": "fc4b7767-5702-417f-eb41-ced99d8b8e5e",
        "colab": {
          "base_uri": "https://localhost:8080/"
        }
      },
      "execution_count": null,
      "outputs": [
        {
          "output_type": "execute_result",
          "data": {
            "text/plain": [
              "array([0.30134625, 0.5589916 , 0.56181275, 0.35545735, 0.10801013])"
            ]
          },
          "metadata": {},
          "execution_count": 31
        }
      ]
    },
    {
      "cell_type": "markdown",
      "source": [
        "### Bentuk Lain Metode Kuadratur Numerik\n",
        "\n",
        "Metode kuadratur _Gauss-Legendre_ merupakan salah satu bentuk dari bentuk umum metode kuadratur yaitu\n",
        "\n",
        "$$\\int_{a}^b w(x)f(x)dx\\approx \\sum_{i=1}^n w_i f(x_i)\\tag{13}$$\n",
        "\n",
        "Ungkapan tersebut berlaku pada interval $[a,b]$ dan bentuk bobot $w(x)$ tertentu. Keadaan khusus saat $a=-1, b=1$ dan $w(x)=1$ maka pers (13) di atas merupakan bentuk dari metode kuadratur _Gauss-Legnedre_.\n",
        "\n",
        "Interval $[a,b]$ dan bentuk fungsi bobot $w(x)$ akan terkait dengan fungsi khas dari polinomial orthonormal tertentu sehingga digunakan sebagai penamaan bagi metode kuadratur tersebut. Pemahaman terkait polinomial orthonormal tertentu tersebut akan berguna untuk mendapatkan nilai-nilai $x_i$ dan $w_i$ pada orde pendekatan tertentu.\n",
        "\n",
        "Tabel berikut memberikan daftar dari beberapa bentuk metode kuadratur numerik yang banyak digunakan pada beberapa permasalahan perhitungan yang melibatkan integral tak layak.\n",
        "\n",
        "Interval pada $[a,b]$| Bentuk fungsi bobot $w(x)$ |Polinomial Orthonormal |Nama Metode Kuadratur\n",
        "--|-|-|- \n",
        "$[-1,1]$ |1|Polinomial _Legendre_ |_Gauss-Legendre_\n",
        "$[-1,1]$ |$(1-x)^\\alpha(1+x)^\\beta$|Polinomial _Jacobi_ |_Gauss-Jacobi_\n",
        "$[-1,1]$ |$\\frac{1}{\\sqrt{(1-x^2)}}$|Polinomial _Chebyshev_ jenis 1 |_Gauss-Chebyshev_\n",
        "$[-1,1]$ |$\\sqrt{(1-x^2)}$|Polinomial _Chebyshev_ jenis 2 |_Gauss-Chebyshev_\n",
        "$[0,\\infty]$ |$e^{-x}$|Polinomial _Laguerre_ jenis 2 |_Gauss-Laguerre_\n",
        "$[-\\infty,\\infty]$ |$e^{-x^2}$|Polinomial _Hermite_ jenis 2 |_Gauss-Hermite_"
      ],
      "metadata": {
        "id": "RfUVM6gaF26L"
      }
    },
    {
      "cell_type": "markdown",
      "source": [
        "## **Tugas**\n",
        "\n",
        "Di dalam mekanika kuantum, ungkapan untuk memperoleh harga harap (_expectation value_) bagi besaran posisi kuadrat ($x^2$) pada sistem osilator harmonik pada tingkatan tenaga ke $10$ diberikan oleh ungkapan\n",
        "\n",
        "$$<x^2>=\\int_{-\\infty}^\\infty\\psi_{10}^*(x)x^2\\psi_{10}(x)\\,dx$$\n",
        "\n",
        "Dalam ungkapan di atas, fungsi *Hermite* pada orde ke $n$ yaitu $\\psi_n(x)$ dikaitkan dengan polinomial *Hermite* orde ke $n$ yaitu $H_n(x)$ oleh bentuk yang sudah disampakan pad Modul ke 2 yaitu\n",
        "\n",
        "$$\\psi_n(x)=\\sqrt{\\frac{1}{2^n n!\\sqrt{\\pi}}}e^{-\\tfrac{x^2}{2}}H_n(x)$$\n",
        "\n",
        "Dengan demikian bentuk eksplisit harga harap (_expectation value_) bagi besaran posisi kuadrat adalah\n",
        "\n",
        "$$<x^2>=\\frac{1}{2^{10} 10!\\sqrt{\\pi}}\\int_{-\\infty}^\\infty\\,e^{-x^2}x^2H_{10}^2(x)\\,dx\\tag{14}$$\n",
        "\n",
        "1. Metode Integrasi Numerik Simpson\n",
        "> * Tentukan nilai harga harap (_expectation value_) bagi besaran posisi kuadrat seperti diberikan oleh pers (14) dengan menggunakan integrasi numerik Simpson. \n",
        "> * Sebagai pengganti bagi batas integral yang bernilai tak berhingga, maka dapat digunakan hasil plot fungsi *Hermite* orde ke 10 yang telah diperoleh pada Tugas di Modul ke 2. Dari plot tersebut maka dapat dilihat bahwa nilai fungsi *Hermite* orde ke 10 akan mengecil secara asimtotik pada nilai di sekitar $x\\approx -8$ dan $x\\approx 8$. Dengan demikian maka dapat diambil sebagai pendekatan bahwa batas integral dapat diambil pada $a=-8$ dan $b=8$.\n",
        "\n",
        "2. Metode Kuadratur Numerik\n",
        "> * Merujuk pada Tabel yang disampaikan di atas maka ungkapan pers (14) akan sesaui dengan bentuk metode kuadratur *Gauss-Hermite*. Tentukan nilai harga harap (_expectation value_) bagi besaran posisi kuadrat seperti diberikan oleh pers (14) dengan menggunakan integrasi kuadratur *Gauss-Hermite*.\n",
        "\n",
        "Coba amati dan bandingkan hasil perhitungan dengan kedua metode di atas dan berikan komentar atas hasil tersebut."
      ],
      "metadata": {
        "id": "_Arrm2ryHR21"
      }
    }
  ]
}
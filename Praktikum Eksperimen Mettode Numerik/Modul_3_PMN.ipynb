{
  "cells": [
    {
      "cell_type": "markdown",
      "id": "4c12c4a7",
      "metadata": {
        "id": "4c12c4a7"
      },
      "source": [
        "# **Modul 3**\n",
        "---\n",
        "## **Pencarian Akar Sebarang Fungsi**\n",
        "\n",
        "\n",
        "Pada bab ini akan mulai dibahas mengenai suatu metode numerik yang didasarkan pada matematika diskret dan algoritma dan pemrograman yang telah dibahas pada bab yang telah lalu. Lebih lanjut akan disajikan pula suatu permasalahan fisis yang dapat diselesaikan melalui metode numerik yang dimaksud.\n",
        "\n",
        "Topik yang akan disajikan pada bab ini adalah permasalahan akar fungsi yang merupakan permasalahan yang cukup penting dalam matematika. Suatu nilai disebut sebagai akar dari sebuah fungsi jika nilai tersebut menghasilkan luaran 0 (nol) saat dimasukan ke dalam fungsi yang dimaksud. Oleh karenanya permasalahan akar ini seringkali disebut sebagai pencarian titik nol. Bentuk umum masalah pencarian akar atau pencarian titik nol bagi sebarang fungsi $f(x)$ dapat diungkapkan dalam bentuk\n",
        "\n",
        "$$f(x)=0\\tag{1}$$\n",
        "\n",
        "Nilai-nilai $x$ yang memenuhi pers (1) di atas disebut sebagai akar-akar atau titik-titik nol bagi fungsi $f(x)$ tersebut.\n",
        "\n",
        "Untuk suatu fungsi linear maka nilai akar (titik nol) baginya dapat diperoleh dengan mudah, oleh karenanya dalam bab ini akan dibahas mengenai pencarian akar pada fungsi-fungsi yang tak linier. Banyak contoh fungsi yang tak linier dalam metematik diantaranya adalah fungsi polinom dan fungsi-fungsi trigonometrik. \n",
        "\n",
        "Salah satu terapan dari pencarian akar fungsi adalah pada masalah optimasi. Sebagaimana kita ketahui bahwa jika kita mengetahui suatu fungsi akan bernilai ekstrimum jika turunan pertamannya bernilai nol. Memanfaatkan sifat tersebut, ditambah dengan turunan keduanya bernilai negatif, maka dapat diperoleh kondisi optimum dari fungsi tersebut. Terlihat hubungan yang cukup jelas antara kondisi optimum dan nilai akar dari suatu fungsi. Untuk mencari akar dari beberapa jenis fungsi-fungsi nonlinear terdapat beberapa metode numerik dapat digunakan untuk memperoleh nilai akarnya, berikut adalah beberapa metode yang dimaksud.\n",
        "\n",
        "## **1. Metode Bisection**\n",
        "Metode bisection merupakan metode paling sederhana bagi penyelesaian akar fungsi tak linear pada suatu interval yang diketahui. Kelebihan dari metode ini adalah bisa digunakan bagi sembarang fungsi termasuk pada suatu fungsi-fungsi yang tidak bisa diselesaikan secara analitik. Berdasarkan namanya seseungguhnya kita bisa menebak secara intuitif maksud dari metode ini, yaitu jika pada suatu interval tertentu terdapat suatu akar dari fungsi maka interval tersebut dibagi menjadi dua interval baru. Lalu dapat dipastikan diantara kedua interval yang terbentuk tersebut terdapat satu interval yang memuat akar (titik nol) fungsi.\n",
        "\n",
        "Pertama asumsikan bahwa pada interval $x=a$ dan $x=c$ atau dapat dituliskan $[a,c]$, terdapat satu buah akar bagi sebuah fungsi. Kemudian metode Bisection bekerja berdasarkan fakta bahwa tanda pada dua sisi yaitu kiri dan kanan titik nol adalah berlawanan, yaitu $f(a)$ positif dan $f(c)$ negatif. Maka langkah dalam metode Bisection untuk memdekati nilai akar adalah sebagai berikut:\n",
        "\n",
        "1. Pertama membagi interval menjadi dua (Bisect) yaitu $[a,b]$ dan $[b,c]$ dimana $b=(a+c)/2$.\n",
        "2. Mencari interval yang masih mengandung akar fungsi dengan cara melakukan perkalian antara $f(a)f(b)$ dan $f(b)f(c)$. Jika $f(a)f(b)\\leq0$ maka interval $[a,b]$ mengandung akar fungsi. (lihat gambar)\n",
        "3. Interval $[a,b]$ dibagi menjadi dua lagi \"di-Bisect\" dan prosedur pencarian interval yang mengandung akar fungsi dilakukan secara berulang.\n",
        "4. Pada setiap langkah titik tengah interval akan digunakan sebagai nilai pendekatan bagi akar fungsi yang dimaksud/dicari.\n",
        "\n",
        "Setelah $n$ langkah perulangan maka akan diperoleh\n",
        "\\begin{eqnarray}\n",
        "\\frac{c-a}{2^{n}}\n",
        "\\end{eqnarray}\n",
        "Nilai ini dapat digunakan untuk menentukan batas toleransi bagi program untuk melakukan iterasi sampai mencapai interval terkecil. Jika diberikan toleransi $\\epsilon$ maka berlaku\n",
        "\\begin{eqnarray}\n",
        "\\frac{c-a}{2^{n}}\n",
        "\\end{eqnarray}\n",
        "atau dapat dituliskan sebagai\n",
        "\\begin{eqnarray}\n",
        "n\\geq\\ln\\frac{c-a}{\\epsilon}\n",
        "\\end{eqnarray}\n",
        "\n",
        "Berikut ini adalah kode program yang berdasarkan pada metode Bisection untuk menyelesaikan permasalahan persamaan $x^{2} - 2x +1$ dengan bahasa python.\n"
      ]
    },
    {
      "cell_type": "code",
      "execution_count": null,
      "id": "72a5d8e9",
      "metadata": {
        "id": "72a5d8e9"
      },
      "outputs": [],
      "source": [
        "from math import pi \n",
        "import numpy as np\n",
        "def bisection(f,a,b,N):\n",
        "    an = a\n",
        "    bn = b\n",
        "    for n in range(1,N+1):\n",
        "        mn = (an + bn)/2\n",
        "        fmn = f(mn)\n",
        "        if f(an)*fmn < 0:\n",
        "            an = an\n",
        "            bn = mn\n",
        "        elif f(bn)*fmn < 0:\n",
        "            an = mn\n",
        "            bn = bn\n",
        "        elif fmn == 0:\n",
        "            print(\"Diperoleh solusi eksak\")\n",
        "            return mn\n",
        "        else:\n",
        "            print(\"Metode gagal\")\n",
        "            return None\n",
        "    return (an + bn)/2"
      ]
    },
    {
      "cell_type": "code",
      "execution_count": null,
      "id": "ed8abe24",
      "metadata": {
        "id": "ed8abe24",
        "outputId": "bad75ed2-cbb1-400f-be28-490ed6d50092"
      },
      "outputs": [
        {
          "name": "stdout",
          "output_type": "stream",
          "text": [
            "Diperoleh solusi eksak\n",
            "1.0\n"
          ]
        }
      ],
      "source": [
        "f = lambda x: x**2 - 2*x + 1\n",
        "nilai_x = bisection(f,0,2,25)\n",
        "print(nilai_x)"
      ]
    },
    {
      "cell_type": "markdown",
      "id": "8dd38a60",
      "metadata": {
        "id": "8dd38a60"
      },
      "source": [
        "### Hal yang perlu diperhatikan pada Metode Bisection\n",
        "Sudah ditunjukkan bahwa metode Bisection berhasil digunakan untuk menghitung nilai akar fungsi $x^{2} - 2x +1$. Salah satu lagkah yang dilakukan adalah memberikan rentang di mana akar fungsi dicari. Pennentuan rentang ini dapat diartika dua hal. Pertama, pada rentang tersebutlah akan dicari keberadaan nilai akar. Kedua, rentang tersebut merupakan perkiraan di mana akar yang akan dicari berada. Oleh karena itu perlu diperhatikan pemberian rentang dimana akar akan dicari.\n",
        "\n",
        "Sebagai contoh pentingnya rentang pencarian akar, akan digunakan fungsi `sin(x)`. Dengan menggunakan fungsi tersebut dapat diuji metode Bisection dengan memberikan rentang tebakan yang berbeda sebagai berikut:\n"
      ]
    },
    {
      "cell_type": "code",
      "execution_count": null,
      "id": "7a8914b4",
      "metadata": {
        "id": "7a8914b4"
      },
      "outputs": [],
      "source": [
        "from math import pi \n",
        "import numpy as np\n",
        "def bisection(f,a,b,N):\n",
        "    an = a\n",
        "    bn = b\n",
        "    for n in range(1,N+1):\n",
        "        mn = (an + bn)/2\n",
        "        fmn = f(mn)\n",
        "        if f(an)*fmn < 0:\n",
        "            an = an\n",
        "            bn = mn\n",
        "        elif f(bn)*fmn < 0:\n",
        "            an = mn\n",
        "            bn = bn\n",
        "        elif fmn == 0:\n",
        "            print(\"Diperoleh solusi eksak\")\n",
        "            return mn\n",
        "        else:\n",
        "            print(\"Metode gagal\")\n",
        "            return None\n",
        "    return (an + bn)/2\n"
      ]
    },
    {
      "cell_type": "code",
      "execution_count": null,
      "id": "7a0f7f28",
      "metadata": {
        "id": "7a0f7f28",
        "outputId": "16f0947a-89a0-413f-f50e-e49414bf1f49"
      },
      "outputs": [
        {
          "name": "stdout",
          "output_type": "stream",
          "text": [
            "Metode gagal\n",
            "None\n"
          ]
        }
      ],
      "source": [
        "f = lambda x: np.sin(x)\n",
        "approx_phi = bisection(f,0,1*pi,25)\n",
        "print(approx_phi)"
      ]
    },
    {
      "cell_type": "markdown",
      "id": "61c61479",
      "metadata": {
        "id": "61c61479"
      },
      "source": [
        "Dari uji coba ini dapat ditunjukkan jika dalam rentang yang diberikan tidak terdapat akar maka metode akan dianggap gagal, sekaligus dapat pula berarti bahwa hasilnya adalah dalam rentang tersebut dapat dibuktikan tidak terdapat akar. Sedangkan dengan meberi tebakan yang berbeda sebagai berikut"
      ]
    },
    {
      "cell_type": "code",
      "execution_count": null,
      "id": "323189d9",
      "metadata": {
        "id": "323189d9",
        "outputId": "abdff14f-cc4b-4544-d025-c42ed346f124"
      },
      "outputs": [
        {
          "name": "stdout",
          "output_type": "stream",
          "text": [
            "3.14159274721655\n"
          ]
        }
      ],
      "source": [
        "f = lambda x: np.sin(x)\n",
        "approx_phi = bisection(f,0,2*pi,25)\n",
        "print(approx_phi)"
      ]
    },
    {
      "cell_type": "markdown",
      "id": "d5485703",
      "metadata": {
        "id": "d5485703"
      },
      "source": [
        "Selain itu perlu diperhatikan pula jika fungsi yang dicari akarnya mengandung beberapa akar, yang berarti bahwa perlu diberikan beberapa rentang untuk menghasilkan semua akar dari fungsi yang dianalisa."
      ]
    },
    {
      "cell_type": "markdown",
      "id": "d35689a2",
      "metadata": {
        "id": "d35689a2"
      },
      "source": [
        "### Seputar Penentuan Masukan Awal atau Nilai Coba\n",
        "\n",
        "Beberapa algoritma atau urutan penyelesaian suatu masalah dalam proses komputasi memerlukan adanya masukan awal atau nilai coba agar algoritma tersebut dapat bekerja. Sebagai contoh, dalam penentuan nilai suatu akar bagi sebarang fungsi non linear maka diperlukan dua nilai coba agar metode *Bisection* dapat memberikan nilai akar yang dicari. \n",
        "\n",
        "Pertanyaan yang seringkali muncul terkait hal itu adalah: \"Bagaimana dapat memberikan nilai coba sebagai masukan awal bagi penentuan nilai akar, mengingat nilai akar itulah yang justru ingin diketahui?\". Untuk memberikan jawaban atas pertanyaan tersebut, berikut akan disampaikan tiga dari banyak mekanisme yang mungkin dapat diambil.\n",
        "\n",
        "### a. Mekanisme Intuisi Fisika\n",
        "\n",
        "Beberapa proses komputasi dari suatu ungkapan matematika biasanya tidak berdiri sendiri, tetapi mewakili suatu sistem fisika tertentu. Sebagai contoh, akar yang akan dicari dari suatu fungsi tertentu boleh jadi mewakili nilai tenaga dari suatu sistem kuantum, yaitu nilai tenaga ionisasi atom Helium. Dalam konteks ini, pencarian nilai tenaga ionisasi atom Helium akan dapat diperkirakan kisaran nilai tenaganya berdasarkan informasi nilai tenaga dari sistem kuantum yang lebih sederhana namun memiliki kemiripan dengan sistem atom Helium yaitu sistem atom Hidrogen. Karena lebih sederhana maka penyelesaian sistem atonm Hidrogen relatif lebih mudah dibanding atom Helium, sehingga informasi nilai tenaga pada atom Hidrogen dapat digunakan untuk memperkirakan kisaran nilai tenaga yang diperlukan sebagai nilai coba pada proses komputasi.\n",
        "\n",
        "### b. Mekanisme Aproksimasi Matematika\n",
        "\n",
        "Beberapa ungkapan matematika yang nampak rumit kadang dapat dipandang dalam bentuk ungkapan yang lebih sederhana. Hal itu dapat terjadi dalam keadaan khusus ketika memenuhi suatu mekanisme aproksimasi tertentu antara lain: \n",
        "\n",
        "* Satu atau beberapa suku dalam ungkapan tersebut bernilai jauh lebih kecil dibanding suku lainnya sehingga suku tersebut untuk sementara dapat diabaikan. Pengaruh pengabaian suku tersebut kadang menyebabkan penyelesaian bagi ungkapan tersebut menjadi lebih mudah dibanding ungkapan semula. Penyelesaian dari ungkapan yang belih sederhana tersebut akan dapat digunakan sebagai masukan awal atau nilai coba untuk proses komputasi bagi ungkapan semula.\n",
        "* Nilai asimtotik, yaitu nilai dalam keadaan ekstrem yang sangat besar atau sangat kecil, bagi nilai akar kadang dapat digunakan untuk memperoleh sifat atau kisaran bagi nilai akar  lainnya. Kisaran nilai tersebut akan dapat digunakan sebagai masukan awal atau nilai coba untuk proses komputasi bagi nilai akar yang lebih teliti.\n",
        "\n",
        "### c. Mekanisme Visual\n",
        "\n",
        "Kemampuan untuk melakukan evaluasi fungsi dan menampilkan plot fungsi akan dapat digunakan sebagai cara praktis dalam menentukan masukan awal atau nilai coba proses komputasi. Sebagai gambaran, berikut akan ditunjukkan proses komputasi dengan metode *Bisection* untuk memperoleh beberapa akar dari polinomial *Hermite* pada orde ke $n$. \n",
        "\n",
        "Algoritma untuk masalah tersebut adalah seperti berikut:\n",
        "\n",
        "1. Lakukan evaluasi fungsi bagi polinomial *Hermite* pada orde tertentu $n$ pada rentang peubah $x$ yang dipilih.\n",
        "2. Lakukan plot bagi fungsi melalui metode evaluasi fungsi langkah ke 1.\n",
        "3. Cermati secara visual pada plot fungsi langkah ke 2 dan pilih dua nilai di sekitar suatu titik potong fungsi terhadap absis.\n",
        "4. Gunakan dua nilai di sekitar titik potong tersebut sebagai dua nilai awal metode *Bisection* untuk memperoleh nilai akar tertentu. \n",
        "5. Ulangi langkah 3 dan 4 untuk memperoleh nilai akar lainnya.\n",
        "\n",
        "Berikut akan ditunjukkan implementasi algoritma di atas untuk memperoleh akar-akar dari polinimial *Hermite* orde $5$."
      ]
    },
    {
      "cell_type": "code",
      "execution_count": null,
      "id": "80cc1c25",
      "metadata": {
        "id": "80cc1c25"
      },
      "outputs": [],
      "source": [
        "import numpy as np\n",
        "from matplotlib import pyplot as plt\n",
        "\n",
        "def hermiten(n,x):\n",
        "    yrekur0 = 1.0\n",
        "    yrekur1 = 2.0*x\n",
        "    for i in range (1,n):\n",
        "        yrekur = 2.0*x*yrekur1-2.0*i*yrekur0\n",
        "        yrekur0 = yrekur1\n",
        "        yrekur1 = yrekur\n",
        "        \n",
        "    return yrekur"
      ]
    },
    {
      "cell_type": "code",
      "execution_count": null,
      "id": "11116c37",
      "metadata": {
        "id": "11116c37",
        "outputId": "0ff5ce68-ccce-4c92-a470-d8a0ed9e4e73"
      },
      "outputs": [
        {
          "data": {
            "image/png": "[encoded data removed]",
            "text/plain": [
              "<Figure size 432x288 with 1 Axes>"
            ]
          },
          "metadata": {
            "needs_background": "light"
          },
          "output_type": "display_data"
        }
      ],
      "source": [
        "n = 5\n",
        "x = np.linspace(-2.1, 2.1, 50)\n",
        "yrekur = hermiten(n,x)\n",
        "plt.plot(x,yrekur)\n",
        "plt.grid()\n",
        "plt.show()"
      ]
    },
    {
      "cell_type": "code",
      "execution_count": null,
      "id": "2a33a8eb",
      "metadata": {
        "id": "2a33a8eb"
      },
      "outputs": [],
      "source": [
        "from math import pi \n",
        "import numpy as np\n",
        "def bisection(f,a,b,N):\n",
        "    an = a\n",
        "    bn = b\n",
        "    for n in range(1,N+1):\n",
        "        mn = (an + bn)/2\n",
        "        fmn = f(mn)\n",
        "        if f(an)*fmn < 0:\n",
        "            an = an\n",
        "            bn = mn\n",
        "        elif f(bn)*fmn < 0:\n",
        "            an = mn\n",
        "            bn = bn\n",
        "        elif fmn == 0:\n",
        "            print(\"Diperoleh solusi eksak\")\n",
        "            return mn\n",
        "        else:\n",
        "            print(\"Metode gagal\")\n",
        "            return None\n",
        "    return (an + bn)/2"
      ]
    },
    {
      "cell_type": "code",
      "execution_count": null,
      "id": "3d28fce6",
      "metadata": {
        "id": "3d28fce6",
        "outputId": "e81264da-7199-4c4b-e227-5ed2eaea4cf1"
      },
      "outputs": [
        {
          "name": "stdout",
          "output_type": "stream",
          "text": [
            "0.9585724622011185\n"
          ]
        }
      ],
      "source": [
        "f = lambda x: hermiten(n,x)\n",
        "nilai_x = bisection(f,0.5,1.5,25)\n",
        "print(nilai_x)"
      ]
    },
    {
      "cell_type": "markdown",
      "id": "d9caee42",
      "metadata": {
        "id": "d9caee42"
      },
      "source": [
        "Hasil di atas dapat dibandingkan hingga minimal 7 angka di belakang koma dengan hasil berdasarkan Tabel polinomial *Hermite* pada orde $5$ yang memiliki akar dengan nilai $0.958572464614$ dan $2.020182870456$."
      ]
    },
    {
      "cell_type": "markdown",
      "metadata": {
        "id": "2aa317bc"
      },
      "source": [
        "## **2. Metode Newton-Raphson**\n",
        "\n",
        "Pada bagian sebelumnya telah dijelaskan mengenai suatu metode yang sangat sederhana penyelesaian numerik bagi permasalahan pencarian akar suatu fungsi dengan metode Bisection. Pada bagian ini akan dijelaskan metode yang lain yaitu metode Newton atau yang dikenal pula dengan metode Newton-Raphson. Kelebihan dari metode ini adalah dapat digunakan untuk menyelesaikan permasalahan akar kompleks dan bahkan bisa diterapkan pada persamaan-persamaan nonlinear secara simultan. \n",
        "\n",
        "Bentuk umum masalah pencarian akar (*roots finding*) atau pencarian titik nol (*zeros finding*) dapat dinyatakan dalam bentuk ungkapan\n",
        "\n",
        "$$f(x)=0\\tag{1}$$\n",
        "\n",
        "dengan $x$ adalah akar-akar atau titik-titik nol yang akan dicari.\n",
        "\n",
        "Metode Newton-Raphson untuk masalah pencarian akar dapat diperoleh dari deret Taylor sebagai berikut\n",
        "\n",
        "$$f(x)=f(a)+hf'(a)+\\frac{h^{2}}{2}f''(a) +\\cdots+ \\frac{h^{m}}{m!}f^{(m)}(a)+\\cdots\\tag{2}$$\n",
        "\n",
        "Dimana $h=x-a$ biasa disebut sebagai ukuran langkah (*step size*) yaitu nilai yang mewakili tingkat kehalusan diskretisasi dan $f'(a)$, $f''(a), f^m(a)$, adalah beturut-turut turunan pertama, kedua dan ke $m$ dari fungsi $f(x)$ di titik $x=a$. Merujuk pada ungkapan untuk masalah pencarian akar seperti diberikan oleh pers (1) maka untuk suatu nilai tebakan akar di $x=x_{0}$ dan menggunakan pendekatan hingga dua suku pertama pada pers (2) maka berlaku\n",
        "\n",
        "$$f(x)=0\\approx f(x_{0})+(x-x_{0})f'(x_{0})$$\n",
        "\n",
        "Dengan menyelesaikan persamaan di atas maka dapat diperoleh\n",
        "\n",
        "$$0=f(x_{0})+(x-x_{0})f'(x_{0})$$\n",
        "\n",
        "$$\\frac{f(x_{0})}{f'(x_{0})}+(x-x_{0})=0$$\n",
        "\n",
        "$$x=x_{0}-\\frac{f(x_{0})}{f'(x_{0})}$$\n",
        "\n",
        "Ungkapan di atas dapat dipahami sebagai berikut: ketika nilai tebakan akar diberikan oleh nilai $x_0$ maka persamaan tersebut dapat digunakan untuk memperoleh tebakan akar yanmg lebih baik yaitu $x$. Apabila hasil tebakan $x$ ternyata belum baik maka nilai $x$ dapat diambil sebagai nilai tebakan berikutnya yaitu $x_1$. Seperti langkah sebelumnya, ketika nilai tebakan akar diberikan oleh nilai $x_1$ maka persamaan tersebut dapat digunakan untuk memperoleh tebakan akar berikutnya yang lebih baik yaitu $x=x_2$. \n",
        "\n",
        "Langkah tersebut dapat diulang atau rekursif hingga pada langkah atau putaran ke $i$ diharapkan akan diperoleh nilai tebakan akar yang mendekati nilai akar yang dicari. Upaya pencarian akar secara rekursif seperti ini disebut sebagai metode Newton-Raphson dengan bentuk persamaan\n",
        "\n",
        "$$x_{i}=x_{i-1}-\\frac{f(x_{i-1})}{f'(x_{i-1})}\\tag{3}$$\n",
        "\n",
        "\n",
        "Dengan menggunakan pers (3) di atas maka urutan langkah atau Algoritma dalam pencarian akar menggunakan metode Newton-Rapshon adalah sebagai berikut:\n",
        "1. Tentukan bentuk fungsi yang akan dicari nilai akarnya.\n",
        "2. Tentukan turunan pertama dari fungsi tersebut.\n",
        "3. Berikan nilai tebakan awal dari akar.\n",
        "4. Hitung nilai akar menggunakan pers (3) di atas sampai batas toleransi yang ingin dicapai dan/atau iterasi maksimal yang diinginkan.\n",
        "\n",
        "Suatu hal yang perlu diingat pada metode ini adalah diperlukan turunan bagi suatu fungsi yang ingin diketahui nilai akarnya menggunakan metode ini. Oleh karenanya tidak sebarang fungsi dapat diselesaikan, melainkan hanya fungsi yang mempunyai turunan. Selain itu diperlukan nilai tebakan awal yang sesuai agar proses pencarian akar dapat dilakukan. Terkait tebakan awal tersebut teknik yang sama dengan pemberian rentang pada metode Bisection yaitu menggunakan intuisi fisis, menggunakan aproksimasi matematis dan visual melalui plotting fungsi, dapat diterapkan pada metode Newton-Rapshon.\n",
        "\n",
        "Berikut adalah kode sumber yang merupakan contoh implementasi dari metode Newton-Raphson untuk mencari akar dari persamaan $x^{2} -2x+1$ yang mempunyai turunan pertama $2x-2$."
      ],
      "id": "2aa317bc"
    },
    {
      "cell_type": "code",
      "execution_count": null,
      "metadata": {
        "id": "d508061b"
      },
      "outputs": [],
      "source": [
        "# fungsi yang ingin dicari akarnya\n",
        "def fung(x):\n",
        "    return x**2 - 4*x + 3\n",
        "\n",
        "#turunan pertama fungsi\n",
        "def dfung(x):\n",
        "    return 2*x - 4"
      ],
      "id": "d508061b"
    },
    {
      "cell_type": "code",
      "execution_count": null,
      "metadata": {
        "id": "167b141b"
      },
      "outputs": [],
      "source": [
        "def NewtonRaphson(x0,tol,imak):\n",
        "    i = 0\n",
        "    while i < imak:\n",
        "        if dfung(x0) == 0.0:\n",
        "            print('Ada pembagian dengan nol')\n",
        "            break\n",
        "        \n",
        "        i = i + 1\n",
        "        x1 = x0 - fung(x0)/dfung(x0)\n",
        "        delta = x1 - x0\n",
        "        \n",
        "        #selisih antara dua variiabel tetap positif\n",
        "        if (delta < 0):\n",
        "            delta = - delta\n",
        "        \n",
        "        print('Hasil iterasi ke-%d, x1 = %0.6f and f(x1) = %0.6f' % (i, x1, fung(x1)))\n",
        "        x0 = x1\n",
        "                \n",
        "        if  i >= imak:\n",
        "            print('\\nNilai akar adalah: %0.8f' % x1)\n",
        "        \n",
        "        #penghentian perhitungan jika selisih sudah lebih kecil dari toleransi\n",
        "        if  delta <= tol:\n",
        "            print('\\nNilai akar adalah: %0.8f' % x1)\n",
        "            break\n",
        "\n"
      ],
      "id": "167b141b"
    },
    {
      "cell_type": "code",
      "execution_count": null,
      "metadata": {
        "id": "c13942ba",
        "outputId": "b5973b55-352b-41b4-a979-d6eafae8bd3c"
      },
      "outputs": [
        {
          "name": "stdout",
          "output_type": "stream",
          "text": [
            "Berikan nilai awal X0: 1.5\n",
            "Berikan nilai toleransi: 0.00001\n",
            "Iterasi maksimal: 20\n",
            "Hasil iterasi ke-1, x1 = 0.750000 and f(x1) = 0.562500\n",
            "Hasil iterasi ke-2, x1 = 0.975000 and f(x1) = 0.050625\n",
            "Hasil iterasi ke-3, x1 = 0.999695 and f(x1) = 0.000610\n",
            "Hasil iterasi ke-4, x1 = 1.000000 and f(x1) = 0.000000\n",
            "Hasil iterasi ke-5, x1 = 1.000000 and f(x1) = 0.000000\n",
            "\n",
            "Nilai akar adalah: 1.00000000\n"
          ]
        }
      ],
      "source": [
        "# bagian input\n",
        "x0 = input('Berikan nilai awal X0: ')\n",
        "tol = input('Berikan nilai toleransi: ')\n",
        "imak = input('Iterasi maksimal: ')\n",
        "\n",
        "# konfersi x0 dan tol kedalam float\n",
        "x0 = float(x0)\n",
        "tol = float(tol)\n",
        "\n",
        "# konversi imak menjadi integer\n",
        "imak = int(imak)\n",
        "\n",
        "# Pemanggilan Newton-Rapshon\n",
        "NewtonRaphson(x0,tol,imak)"
      ],
      "id": "c13942ba"
    },
    {
      "cell_type": "markdown",
      "metadata": {
        "id": "c5555756"
      },
      "source": [
        "### Laju Konvergensi\n",
        "\n",
        "Laju konvergensi merupakan istilah bagi kecepatan suatu metode hingga mendapatkan hasil yang dapat diterima. Metode Newton-Raphson memiliki laju konvergensi orde dua, sedangkan metode Bisection memiliki laju konvergensi orde satu. Secara mudah, laju konvergensi orde dua memiliki sifat bahwa saat suatu iterasi memiliki ralat sebesar $0.01$ maka ralat pada iterasi berikutnya menjadi $(0.01)^2=0.0001$. Oleh karena itu, pada umumnya metode Newton-Raphson akan lebih cepat memperoleh nilai akar dibanding metode Bisection.\n",
        "\n",
        "Berikut gambaran laju konvergensi metode Bisection ketika dibandingkan dengan metode Newton-Raphson."
      ],
      "id": "c5555756"
    },
    {
      "cell_type": "code",
      "execution_count": null,
      "metadata": {
        "id": "54b43368"
      },
      "outputs": [],
      "source": [
        "def Bisection(a,b,tol,imak):\n",
        "    i = 0\n",
        "    an = a\n",
        "    bn = b\n",
        "    while i < imak: \n",
        "        i = i + 1\n",
        "        mn = (an + bn)/2.0\n",
        "        fmn = fung(mn)\n",
        "        fan = fung(an)\n",
        "        fbn = fung(bn)\n",
        "        if fan*fmn < 0:\n",
        "            an = an\n",
        "            bn = mn\n",
        "        elif fbn*fmn < 0:\n",
        "            an = mn\n",
        "            bn = bn\n",
        "        elif fmn == 0:\n",
        "            print(\"Diperoleh solusi eksak\")\n",
        "            return mn\n",
        "        else:\n",
        "            print(\"Metode gagal\")\n",
        "            return None\n",
        "            \n",
        "        delta = (bn - an)/bn\n",
        "        \n",
        "        #selisih antara dua variiabel tetap positif\n",
        "        if (delta < 0):\n",
        "            delta = - delta\n",
        "        \n",
        "        print('Hasil iterasi ke-%d, mn = %0.6f and f(mn) = %0.6f' % (i, mn, fmn))\n",
        "                \n",
        "        if  i >= imak:\n",
        "            print('\\nNilai akar adalah: %0.8f' % mn)\n",
        "        \n",
        "        #penghentian perhitungan jika selisih sudah lebih kecil dari toleransi\n",
        "        if  delta <= tol:\n",
        "            print('\\nNilai akar adalah: %0.8f' % mn)\n",
        "            break\n"
      ],
      "id": "54b43368"
    },
    {
      "cell_type": "code",
      "execution_count": null,
      "metadata": {
        "id": "10f307b8",
        "outputId": "db41815c-a5ba-44c8-f6e0-54fe5e5961ea"
      },
      "outputs": [
        {
          "name": "stdout",
          "output_type": "stream",
          "text": [
            "Berikan nilai awal ke 1: 0.3\n",
            "Berikan nilai awal ke 2: 1.5\n",
            "Berikan nilai toleransi: 0.00001\n",
            "Iterasi maksimal: 20\n",
            "Hasil iterasi ke-1, mn = 0.900000 and f(mn) = 0.210000\n",
            "Hasil iterasi ke-2, mn = 1.200000 and f(mn) = -0.360000\n",
            "Hasil iterasi ke-3, mn = 1.050000 and f(mn) = -0.097500\n",
            "Hasil iterasi ke-4, mn = 0.975000 and f(mn) = 0.050625\n",
            "Hasil iterasi ke-5, mn = 1.012500 and f(mn) = -0.024844\n",
            "Hasil iterasi ke-6, mn = 0.993750 and f(mn) = 0.012539\n",
            "Hasil iterasi ke-7, mn = 1.003125 and f(mn) = -0.006240\n",
            "Hasil iterasi ke-8, mn = 0.998438 and f(mn) = 0.003127\n",
            "Hasil iterasi ke-9, mn = 1.000781 and f(mn) = -0.001562\n",
            "Hasil iterasi ke-10, mn = 0.999609 and f(mn) = 0.000781\n",
            "Hasil iterasi ke-11, mn = 1.000195 and f(mn) = -0.000391\n",
            "Hasil iterasi ke-12, mn = 0.999902 and f(mn) = 0.000195\n",
            "Hasil iterasi ke-13, mn = 1.000049 and f(mn) = -0.000098\n",
            "Hasil iterasi ke-14, mn = 0.999976 and f(mn) = 0.000049\n",
            "Hasil iterasi ke-15, mn = 1.000012 and f(mn) = -0.000024\n",
            "Hasil iterasi ke-16, mn = 0.999994 and f(mn) = 0.000012\n",
            "Hasil iterasi ke-17, mn = 1.000003 and f(mn) = -0.000006\n",
            "\n",
            "Nilai akar adalah: 1.00000305\n"
          ]
        }
      ],
      "source": [
        "# bagian input\n",
        "a = input('Berikan nilai awal ke 1: ')\n",
        "b = input('Berikan nilai awal ke 2: ')\n",
        "tol = input('Berikan nilai toleransi: ')\n",
        "imak = input('Iterasi maksimal: ')\n",
        "\n",
        "# konfersi a, b dan tol kedalam float\n",
        "a = float(a)\n",
        "b = float(b)\n",
        "tol = float(tol)\n",
        "\n",
        "# konversi imak menjadi integer\n",
        "imak = int(imak)\n",
        "\n",
        "# Pemanggilan Newton-Rapshon\n",
        "Bisection(a,b,tol,imak)"
      ],
      "id": "10f307b8"
    },
    {
      "cell_type": "markdown",
      "source": [
        "## **Tugas**\n",
        "\n",
        "Pencarian akar-akar atau titik-titik nol dari beberapa fungsi khas (_special functions_) banyak dilakukan di beberapa prosedur penyelesaian permasalahan fisika dan matematika. Sebagai contoh, pencarian titik-titik nol bagi salah satu fungsi khas, yaitu Polinomial Hermite $H_n(x)$, akan muncul pada beberapa permasalahan sistem kuantum serta pencarian peubah bebas dalam masalah kuadratur numerik. Dalam hal ini bentuk masalah pencarian akar-akar bagi fungsi akan berbentuk:\n",
        "$$H_n(x)=0$$\n",
        "dengan $n$ adalah orde dari polinomial Hermite.\n",
        "\n",
        "Metode evaluasi polinomial Hermite $H_n(x)$ menggunakan ungkapan deret maupun kaitan rekurensi dapat merujuk pada materi yang disampaikan di Modul 2 Praktikum Metode Numerik. Ungkapan bagi turunan pertama polinomial Hermite dapat dinyatakan dalam bentuk\n",
        "$$\\frac{dH_n(x)}{dx}=H_n^{'}(x)=2nH_{n-1}(x)$$\n",
        "1. Metode Bisection\n",
        "> Tentukan keseluruhan akar-akar dari polinomial $H_n(x)$ pada orde 10 yaitu $n=10$ dengan menggunakan metode Bisection.\n",
        "2. Metode Newton-Raphson\n",
        "> Tentukan keseluruhan akar-akar dari polinomial $H_n(x)$ pada orde 10 yaitu $n=10$ dengan menggunakan metode Newton-Raphsonn."
      ],
      "metadata": {
        "id": "79WwhyI_0CCH"
      },
      "id": "79WwhyI_0CCH"
    }
  ],
  "metadata": {
    "kernelspec": {
      "display_name": "Python 3 (ipykernel)",
      "language": "python",
      "name": "python3"
    },
    "language_info": {
      "codemirror_mode": {
        "name": "ipython",
        "version": 3
      },
      "file_extension": ".py",
      "mimetype": "text/x-python",
      "name": "python",
      "nbconvert_exporter": "python",
      "pygments_lexer": "ipython3",
      "version": "3.9.7"
    },
    "colab": {
      "provenance": [],
      "collapsed_sections": []
    }
  },
  "nbformat": 4,
  "nbformat_minor": 5
}
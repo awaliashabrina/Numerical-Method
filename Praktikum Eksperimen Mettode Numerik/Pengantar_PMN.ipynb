{
  "nbformat": 4,
  "nbformat_minor": 0,
  "metadata": {
    "colab": {
      "provenance": [],
      "collapsed_sections": []
    },
    "kernelspec": {
      "name": "python3",
      "display_name": "Python 3"
    },
    "language_info": {
      "name": "python"
    }
  },
  "cells": [
    {
      "cell_type": "code",
      "execution_count": null,
      "metadata": {
        "id": "QtUlW0shptXk"
      },
      "outputs": [],
      "source": []
    },
    {
      "cell_type": "markdown",
      "source": [
        "# **Pengantar Praktikum Metode Numerik**\n",
        "---\n",
        "\n",
        "Matakuliah Praktikum Metode Numerik (MFF 2028) merupakan matakuliah wajib yang menjadi pelengkap bagi matakuliah Metode Numerik (MFF 1024). Sebagai matakuliah pelengkap maka Praktikum Metode Numerik dimaksudkan untuk memfasilasi aspek ketrampilan yang diperlukan untuk lebih mudah memahami materi yang diberikan dalam matakuliah Metode Numerik.\n",
        "\n",
        "Modul atau mata acara praktikum diambil dari beberapa materi yang diberikan dalam kuliah Metode Numerik sehingga kompetensi minimal bagi peserta kuliah dalam bidang komputasi akan dapat tercapai. Dengan memahami metode numerik secara teori dan praktek maka peserta kuliah akan memiliki bekal pengetahuan yang cukup untuk mengikuti materi matakuliah komputasi fisika dan matakuliah lanjut lainnya yang memerlukan metode komputasi.\n",
        "\n",
        "Praktikum Metode Numerik dilaksanakan secara bauran (_blended_) yaitu menggunakan media daring (_online_) dan luring (_offline_). Beberapa media yang dapat digunakan untuk pelaksaaan Praktikum Metode Numerik adalah sebagai berikut:\n",
        "\n",
        "1. Menggunakan *Google Collaboratory* atau bisa dikenal sebagai *Colab* (https://colab.research.google.com/).\n",
        "> Untuk dapat memanfaatkan *Colab* maka diperlukan akun Google, yaitu akun yang terkait dengan alamat email UGM, untuk memudahkan dalam proses unduh dan unggah file yang terkait materi praktikum.\n",
        "2. Menggunakan server *Jupyter Hub* yang dimiliki oleh Laboratorium Fisika Atom-Inti dengan tautan http://labfisanti.ddns.me/hub/login?next=%2Fhub%2F.\n",
        "> Untuk dapat memanfaatkan server *Jupiter Hub* tersebut maka Peserta dapat melakukan pendaftaran akun terlebih dahulu dengan memberikan info terkait _Username_ yang diinginkan. Masukan terkait _Password_ dapat dimasukkan saat proses *Login*. Peserta untuk seterusnya perlu mengingat nama _Username_ dan _Password_ tersebut karena permintaan penggantian atau _reset_ bagi _Username_ dan _Password_ untuk sementara belum dapat difasilitasi.  \n",
        "> Pendaftaran akun dapat dilakukan dengan mengisi tautan Google Form berikut https://forms.gle/kBAsnA8QA2hUeiPPA. \n",
        "3. Menggunakan fasilitas beberapa komputer di Laboratorium Fisika Atom-Inti, baik untuk mengakses media _online_ yang disampaikan pada butir 1 dan 2 di atas, atau untuk menjalankan secara _offline_ bagi beberapa _source-code_ yang diberikan pada setiap Modul Praktikum, baik melalui *Python*, *Jupyter Notebook* atau *Julia*.\n",
        "4. Menggunakan komputer atau perangkat pribadi masing-masing yang telah dilengkapi dengan  *Python*, *Jupyter Notebook* atau *Julia*.\n",
        "\n",
        "\n",
        "## Instalasi *Python* atau *Julia*\n",
        "\n",
        "Apabila akan menggunakan komputer atau perangkat pribadi masing-masing, maka direkomendasikan untuk menggunakan tautan berikut:\n",
        "* Untuk *Python*: https://www.anaconda.com/products/distribution\n",
        "* Untuk *Julia*: https://julialang.org/downloads/\n",
        "\n",
        "Ketika memilih salah satu dari tautan di atas maka akan diberikan beberapa versi *Python* atau *Julia* sesuai sistem operasi yang digunakan yaitu Windows, Mac OSX atau Linux.\n",
        "\n",
        "Proses instalasi secara umum cukup mudah yaitu sesuai pilihan yang diberikan secara otomatis (_defaults_) oleh langkah instalasi *Python* atau *Julia* tersebut.\n",
        "\n",
        "\n"
      ],
      "metadata": {
        "id": "czWRyf44puSZ"
      }
    }
  ]
}